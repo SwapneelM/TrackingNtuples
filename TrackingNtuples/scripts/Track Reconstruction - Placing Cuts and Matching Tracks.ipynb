{
 "cells": [
  {
   "cell_type": "code",
   "execution_count": null,
   "metadata": {},
   "outputs": [],
   "source": [
    "'''\n",
    "This Notebook Primarily serves to plot the tracks, hits, respective parameters, and matches.\n",
    "It should be used to verify if the data being processed and used for machine learning is accurate.\n",
    "'''"
   ]
  },
  {
   "cell_type": "markdown",
   "metadata": {},
   "source": [
    "## Load Serialized Data into Dataframes"
   ]
  },
  {
   "cell_type": "code",
   "execution_count": 2,
   "metadata": {},
   "outputs": [],
   "source": [
    "import msgpack\n",
    "import pandas as pd"
   ]
  },
  {
   "cell_type": "code",
   "execution_count": 21,
   "metadata": {
    "scrolled": true
   },
   "outputs": [
    {
     "ename": "ValueError",
     "evalue": "path_or_buf needs to be a string file path or file-like",
     "output_type": "error",
     "traceback": [
      "\u001b[0;31m---------------------------------------------------------------------------\u001b[0m",
      "\u001b[0;31mValueError\u001b[0m                                Traceback (most recent call last)",
      "\u001b[0;32m<ipython-input-21-2541e09db27a>\u001b[0m in \u001b[0;36m<module>\u001b[0;34m()\u001b[0m\n\u001b[0;32m----> 1\u001b[0;31m \u001b[0mget_ipython\u001b[0m\u001b[0;34m(\u001b[0m\u001b[0;34m)\u001b[0m\u001b[0;34m.\u001b[0m\u001b[0mrun_cell_magic\u001b[0m\u001b[0;34m(\u001b[0m\u001b[0;34mu'time'\u001b[0m\u001b[0;34m,\u001b[0m \u001b[0;34mu''\u001b[0m\u001b[0;34m,\u001b[0m \u001b[0;34mu\"\\n'''\\nRead in the data from the serialized msgpack files.\\n'''\\n# List of strings with dataframe names to set as filenames for storage\\nfilenames_ = ['data/track_global_df_.msgpack', 'data/track_param_global_df_.msgpack', \\n              'data/rechit_global_df_.msgpack', 'data/rechit_param_global_df_.msgpack']\\n\\ntrack_global_df_ = pd.read_msgpack(filenames_[0])\\ntrack_param_global_df_ = pd.read_msgpack(filenames_[1])\\nrechit_global_df_ = pd.read_msgpack(filenames_[2]) \\nrechit_param_global_df_ = pd.read_msgpack(filenames_[3])\"\u001b[0m\u001b[0;34m)\u001b[0m\u001b[0;34m\u001b[0m\u001b[0m\n\u001b[0m",
      "\u001b[0;32m/Users/swappy/Documents/projects/tsc-cern/TrackingNtuples/TrackingNtuples/scripts/venv/lib/python2.7/site-packages/IPython/core/interactiveshell.pyc\u001b[0m in \u001b[0;36mrun_cell_magic\u001b[0;34m(self, magic_name, line, cell)\u001b[0m\n\u001b[1;32m   2115\u001b[0m             \u001b[0mmagic_arg_s\u001b[0m \u001b[0;34m=\u001b[0m \u001b[0mself\u001b[0m\u001b[0;34m.\u001b[0m\u001b[0mvar_expand\u001b[0m\u001b[0;34m(\u001b[0m\u001b[0mline\u001b[0m\u001b[0;34m,\u001b[0m \u001b[0mstack_depth\u001b[0m\u001b[0;34m)\u001b[0m\u001b[0;34m\u001b[0m\u001b[0m\n\u001b[1;32m   2116\u001b[0m             \u001b[0;32mwith\u001b[0m \u001b[0mself\u001b[0m\u001b[0;34m.\u001b[0m\u001b[0mbuiltin_trap\u001b[0m\u001b[0;34m:\u001b[0m\u001b[0;34m\u001b[0m\u001b[0m\n\u001b[0;32m-> 2117\u001b[0;31m                 \u001b[0mresult\u001b[0m \u001b[0;34m=\u001b[0m \u001b[0mfn\u001b[0m\u001b[0;34m(\u001b[0m\u001b[0mmagic_arg_s\u001b[0m\u001b[0;34m,\u001b[0m \u001b[0mcell\u001b[0m\u001b[0;34m)\u001b[0m\u001b[0;34m\u001b[0m\u001b[0m\n\u001b[0m\u001b[1;32m   2118\u001b[0m             \u001b[0;32mreturn\u001b[0m \u001b[0mresult\u001b[0m\u001b[0;34m\u001b[0m\u001b[0m\n\u001b[1;32m   2119\u001b[0m \u001b[0;34m\u001b[0m\u001b[0m\n",
      "\u001b[0;32m<decorator-gen-60>\u001b[0m in \u001b[0;36mtime\u001b[0;34m(self, line, cell, local_ns)\u001b[0m\n",
      "\u001b[0;32m/Users/swappy/Documents/projects/tsc-cern/TrackingNtuples/TrackingNtuples/scripts/venv/lib/python2.7/site-packages/IPython/core/magic.pyc\u001b[0m in \u001b[0;36m<lambda>\u001b[0;34m(f, *a, **k)\u001b[0m\n\u001b[1;32m    186\u001b[0m     \u001b[0;31m# but it's overkill for just that one bit of state.\u001b[0m\u001b[0;34m\u001b[0m\u001b[0;34m\u001b[0m\u001b[0m\n\u001b[1;32m    187\u001b[0m     \u001b[0;32mdef\u001b[0m \u001b[0mmagic_deco\u001b[0m\u001b[0;34m(\u001b[0m\u001b[0marg\u001b[0m\u001b[0;34m)\u001b[0m\u001b[0;34m:\u001b[0m\u001b[0;34m\u001b[0m\u001b[0m\n\u001b[0;32m--> 188\u001b[0;31m         \u001b[0mcall\u001b[0m \u001b[0;34m=\u001b[0m \u001b[0;32mlambda\u001b[0m \u001b[0mf\u001b[0m\u001b[0;34m,\u001b[0m \u001b[0;34m*\u001b[0m\u001b[0ma\u001b[0m\u001b[0;34m,\u001b[0m \u001b[0;34m**\u001b[0m\u001b[0mk\u001b[0m\u001b[0;34m:\u001b[0m \u001b[0mf\u001b[0m\u001b[0;34m(\u001b[0m\u001b[0;34m*\u001b[0m\u001b[0ma\u001b[0m\u001b[0;34m,\u001b[0m \u001b[0;34m**\u001b[0m\u001b[0mk\u001b[0m\u001b[0;34m)\u001b[0m\u001b[0;34m\u001b[0m\u001b[0m\n\u001b[0m\u001b[1;32m    189\u001b[0m \u001b[0;34m\u001b[0m\u001b[0m\n\u001b[1;32m    190\u001b[0m         \u001b[0;32mif\u001b[0m \u001b[0mcallable\u001b[0m\u001b[0;34m(\u001b[0m\u001b[0marg\u001b[0m\u001b[0;34m)\u001b[0m\u001b[0;34m:\u001b[0m\u001b[0;34m\u001b[0m\u001b[0m\n",
      "\u001b[0;32m/Users/swappy/Documents/projects/tsc-cern/TrackingNtuples/TrackingNtuples/scripts/venv/lib/python2.7/site-packages/IPython/core/magics/execution.pyc\u001b[0m in \u001b[0;36mtime\u001b[0;34m(self, line, cell, local_ns)\u001b[0m\n\u001b[1;32m   1191\u001b[0m         \u001b[0;32melse\u001b[0m\u001b[0;34m:\u001b[0m\u001b[0;34m\u001b[0m\u001b[0m\n\u001b[1;32m   1192\u001b[0m             \u001b[0mst\u001b[0m \u001b[0;34m=\u001b[0m \u001b[0mclock2\u001b[0m\u001b[0;34m(\u001b[0m\u001b[0;34m)\u001b[0m\u001b[0;34m\u001b[0m\u001b[0m\n\u001b[0;32m-> 1193\u001b[0;31m             \u001b[0;32mexec\u001b[0m\u001b[0;34m(\u001b[0m\u001b[0mcode\u001b[0m\u001b[0;34m,\u001b[0m \u001b[0mglob\u001b[0m\u001b[0;34m,\u001b[0m \u001b[0mlocal_ns\u001b[0m\u001b[0;34m)\u001b[0m\u001b[0;34m\u001b[0m\u001b[0m\n\u001b[0m\u001b[1;32m   1194\u001b[0m             \u001b[0mend\u001b[0m \u001b[0;34m=\u001b[0m \u001b[0mclock2\u001b[0m\u001b[0;34m(\u001b[0m\u001b[0;34m)\u001b[0m\u001b[0;34m\u001b[0m\u001b[0m\n\u001b[1;32m   1195\u001b[0m             \u001b[0mout\u001b[0m \u001b[0;34m=\u001b[0m \u001b[0mNone\u001b[0m\u001b[0;34m\u001b[0m\u001b[0m\n",
      "\u001b[0;32m<timed exec>\u001b[0m in \u001b[0;36m<module>\u001b[0;34m()\u001b[0m\n",
      "\u001b[0;32m/Users/swappy/Documents/projects/tsc-cern/TrackingNtuples/TrackingNtuples/scripts/venv/lib/python2.7/site-packages/pandas/io/packers.pyc\u001b[0m in \u001b[0;36mread_msgpack\u001b[0;34m(path_or_buf, encoding, iterator, **kwargs)\u001b[0m\n\u001b[1;32m    226\u001b[0m         \u001b[0;32mreturn\u001b[0m \u001b[0mread\u001b[0m\u001b[0;34m(\u001b[0m\u001b[0mpath_or_buf\u001b[0m\u001b[0;34m)\u001b[0m\u001b[0;34m\u001b[0m\u001b[0m\n\u001b[1;32m    227\u001b[0m \u001b[0;34m\u001b[0m\u001b[0m\n\u001b[0;32m--> 228\u001b[0;31m     \u001b[0;32mraise\u001b[0m \u001b[0mValueError\u001b[0m\u001b[0;34m(\u001b[0m\u001b[0;34m'path_or_buf needs to be a string file path or file-like'\u001b[0m\u001b[0;34m)\u001b[0m\u001b[0;34m\u001b[0m\u001b[0m\n\u001b[0m\u001b[1;32m    229\u001b[0m \u001b[0;34m\u001b[0m\u001b[0m\n\u001b[1;32m    230\u001b[0m \u001b[0;34m\u001b[0m\u001b[0m\n",
      "\u001b[0;31mValueError\u001b[0m: path_or_buf needs to be a string file path or file-like"
     ]
    }
   ],
   "source": [
    "%%time\n",
    "\n",
    "'''\n",
    "Read in the data from the serialized msgpack files.\n",
    "'''\n",
    "# List of strings with dataframe names to set as filenames for storage\n",
    "filenames_ = ['data/track_global_df_.msgpack', 'data/track_param_global_df_.msgpack', \n",
    "              'data/rechit_global_df_.msgpack', 'data/rechit_param_global_df_.msgpack']\n",
    "\n",
    "track_global_df_ = pd.read_msgpack(filenames_[0])\n",
    "track_param_global_df_ = pd.read_msgpack(filenames_[1])\n",
    "rechit_global_df_ = pd.read_msgpack(filenames_[2]) \n",
    "rechit_param_global_df_ = pd.read_msgpack(filenames_[3])\n"
   ]
  },
  {
   "cell_type": "code",
   "execution_count": 20,
   "metadata": {},
   "outputs": [
    {
     "data": {
      "text/html": [
       "<div>\n",
       "<style scoped>\n",
       "    .dataframe tbody tr th:only-of-type {\n",
       "        vertical-align: middle;\n",
       "    }\n",
       "\n",
       "    .dataframe tbody tr th {\n",
       "        vertical-align: top;\n",
       "    }\n",
       "\n",
       "    .dataframe thead th {\n",
       "        text-align: right;\n",
       "    }\n",
       "</style>\n",
       "<table border=\"1\" class=\"dataframe\">\n",
       "  <thead>\n",
       "    <tr style=\"text-align: right;\">\n",
       "      <th></th>\n",
       "    </tr>\n",
       "  </thead>\n",
       "  <tbody>\n",
       "  </tbody>\n",
       "</table>\n",
       "</div>"
      ],
      "text/plain": [
       "Empty DataFrame\n",
       "Columns: []\n",
       "Index: []"
      ]
     },
     "execution_count": 20,
     "metadata": {},
     "output_type": "execute_result"
    }
   ],
   "source": [
    "track_param_global_df_"
   ]
  },
  {
   "cell_type": "markdown",
   "metadata": {},
   "source": [
    "## Place the Cuts on Rechits => eta (-0.9, 0.9)"
   ]
  },
  {
   "cell_type": "code",
   "execution_count": 16,
   "metadata": {
    "scrolled": false
   },
   "outputs": [
    {
     "ename": "KeyError",
     "evalue": "'rechit_eta'",
     "output_type": "error",
     "traceback": [
      "\u001b[0;31m---------------------------------------------------------------------------\u001b[0m",
      "\u001b[0;31mKeyError\u001b[0m                                  Traceback (most recent call last)",
      "\u001b[0;32m<ipython-input-16-4315e09426d5>\u001b[0m in \u001b[0;36m<module>\u001b[0;34m()\u001b[0m\n\u001b[0;32m----> 1\u001b[0;31m \u001b[0mintermediate_df_\u001b[0m \u001b[0;34m=\u001b[0m \u001b[0mrechit_param_global_df_\u001b[0m\u001b[0;34m[\u001b[0m\u001b[0mrechit_param_global_df_\u001b[0m\u001b[0;34m[\u001b[0m\u001b[0;34m'rechit_eta'\u001b[0m\u001b[0;34m]\u001b[0m \u001b[0;34m<=\u001b[0m \u001b[0;36m0.9\u001b[0m\u001b[0;34m]\u001b[0m\u001b[0;34m\u001b[0m\u001b[0m\n\u001b[0m\u001b[1;32m      2\u001b[0m \u001b[0mrechit_param_global_df_cut_\u001b[0m \u001b[0;34m=\u001b[0m \u001b[0mintermediate_df_\u001b[0m\u001b[0;34m[\u001b[0m\u001b[0mintermediate_df_\u001b[0m\u001b[0;34m[\u001b[0m\u001b[0;34m'rechit_eta'\u001b[0m\u001b[0;34m]\u001b[0m \u001b[0;34m>=\u001b[0m \u001b[0;34m-\u001b[0m\u001b[0;36m0.9\u001b[0m\u001b[0;34m]\u001b[0m\u001b[0;34m\u001b[0m\u001b[0m\n\u001b[1;32m      3\u001b[0m \u001b[0;32mprint\u001b[0m \u001b[0mlen\u001b[0m\u001b[0;34m(\u001b[0m\u001b[0mrechit_param_global_df_cut_\u001b[0m\u001b[0;34m)\u001b[0m\u001b[0;34m,\u001b[0m \u001b[0;34m\"of\"\u001b[0m\u001b[0;34m,\u001b[0m \u001b[0mlen\u001b[0m\u001b[0;34m(\u001b[0m\u001b[0mrechit_param_global_df_\u001b[0m\u001b[0;34m)\u001b[0m\u001b[0;34m,\u001b[0m \u001b[0mfloat\u001b[0m\u001b[0;34m(\u001b[0m\u001b[0mlen\u001b[0m\u001b[0;34m(\u001b[0m\u001b[0mrechit_param_global_df_cut_\u001b[0m\u001b[0;34m)\u001b[0m\u001b[0;34m)\u001b[0m\u001b[0;34m/\u001b[0m\u001b[0mfloat\u001b[0m\u001b[0;34m(\u001b[0m\u001b[0mlen\u001b[0m\u001b[0;34m(\u001b[0m\u001b[0mrechit_global_df_\u001b[0m\u001b[0;34m)\u001b[0m\u001b[0;34m)\u001b[0m\u001b[0;34m,\u001b[0m \u001b[0;34m\"hits remain\"\u001b[0m\u001b[0;34m\u001b[0m\u001b[0m\n\u001b[1;32m      4\u001b[0m \u001b[0;34m\u001b[0m\u001b[0m\n\u001b[1;32m      5\u001b[0m \u001b[0;31m# Use the list of remaining rechits to filter the global rechit index\u001b[0m\u001b[0;34m\u001b[0m\u001b[0;34m\u001b[0m\u001b[0m\n",
      "\u001b[0;32m/Users/swappy/Documents/projects/tsc-cern/TrackingNtuples/TrackingNtuples/scripts/venv/lib/python2.7/site-packages/pandas/core/frame.pyc\u001b[0m in \u001b[0;36m__getitem__\u001b[0;34m(self, key)\u001b[0m\n\u001b[1;32m   2686\u001b[0m             \u001b[0;32mreturn\u001b[0m \u001b[0mself\u001b[0m\u001b[0;34m.\u001b[0m\u001b[0m_getitem_multilevel\u001b[0m\u001b[0;34m(\u001b[0m\u001b[0mkey\u001b[0m\u001b[0;34m)\u001b[0m\u001b[0;34m\u001b[0m\u001b[0m\n\u001b[1;32m   2687\u001b[0m         \u001b[0;32melse\u001b[0m\u001b[0;34m:\u001b[0m\u001b[0;34m\u001b[0m\u001b[0m\n\u001b[0;32m-> 2688\u001b[0;31m             \u001b[0;32mreturn\u001b[0m \u001b[0mself\u001b[0m\u001b[0;34m.\u001b[0m\u001b[0m_getitem_column\u001b[0m\u001b[0;34m(\u001b[0m\u001b[0mkey\u001b[0m\u001b[0;34m)\u001b[0m\u001b[0;34m\u001b[0m\u001b[0m\n\u001b[0m\u001b[1;32m   2689\u001b[0m \u001b[0;34m\u001b[0m\u001b[0m\n\u001b[1;32m   2690\u001b[0m     \u001b[0;32mdef\u001b[0m \u001b[0m_getitem_column\u001b[0m\u001b[0;34m(\u001b[0m\u001b[0mself\u001b[0m\u001b[0;34m,\u001b[0m \u001b[0mkey\u001b[0m\u001b[0;34m)\u001b[0m\u001b[0;34m:\u001b[0m\u001b[0;34m\u001b[0m\u001b[0m\n",
      "\u001b[0;32m/Users/swappy/Documents/projects/tsc-cern/TrackingNtuples/TrackingNtuples/scripts/venv/lib/python2.7/site-packages/pandas/core/frame.pyc\u001b[0m in \u001b[0;36m_getitem_column\u001b[0;34m(self, key)\u001b[0m\n\u001b[1;32m   2693\u001b[0m         \u001b[0;31m# get column\u001b[0m\u001b[0;34m\u001b[0m\u001b[0;34m\u001b[0m\u001b[0m\n\u001b[1;32m   2694\u001b[0m         \u001b[0;32mif\u001b[0m \u001b[0mself\u001b[0m\u001b[0;34m.\u001b[0m\u001b[0mcolumns\u001b[0m\u001b[0;34m.\u001b[0m\u001b[0mis_unique\u001b[0m\u001b[0;34m:\u001b[0m\u001b[0;34m\u001b[0m\u001b[0m\n\u001b[0;32m-> 2695\u001b[0;31m             \u001b[0;32mreturn\u001b[0m \u001b[0mself\u001b[0m\u001b[0;34m.\u001b[0m\u001b[0m_get_item_cache\u001b[0m\u001b[0;34m(\u001b[0m\u001b[0mkey\u001b[0m\u001b[0;34m)\u001b[0m\u001b[0;34m\u001b[0m\u001b[0m\n\u001b[0m\u001b[1;32m   2696\u001b[0m \u001b[0;34m\u001b[0m\u001b[0m\n\u001b[1;32m   2697\u001b[0m         \u001b[0;31m# duplicate columns & possible reduce dimensionality\u001b[0m\u001b[0;34m\u001b[0m\u001b[0;34m\u001b[0m\u001b[0m\n",
      "\u001b[0;32m/Users/swappy/Documents/projects/tsc-cern/TrackingNtuples/TrackingNtuples/scripts/venv/lib/python2.7/site-packages/pandas/core/generic.pyc\u001b[0m in \u001b[0;36m_get_item_cache\u001b[0;34m(self, item)\u001b[0m\n\u001b[1;32m   2487\u001b[0m         \u001b[0mres\u001b[0m \u001b[0;34m=\u001b[0m \u001b[0mcache\u001b[0m\u001b[0;34m.\u001b[0m\u001b[0mget\u001b[0m\u001b[0;34m(\u001b[0m\u001b[0mitem\u001b[0m\u001b[0;34m)\u001b[0m\u001b[0;34m\u001b[0m\u001b[0m\n\u001b[1;32m   2488\u001b[0m         \u001b[0;32mif\u001b[0m \u001b[0mres\u001b[0m \u001b[0;32mis\u001b[0m \u001b[0mNone\u001b[0m\u001b[0;34m:\u001b[0m\u001b[0;34m\u001b[0m\u001b[0m\n\u001b[0;32m-> 2489\u001b[0;31m             \u001b[0mvalues\u001b[0m \u001b[0;34m=\u001b[0m \u001b[0mself\u001b[0m\u001b[0;34m.\u001b[0m\u001b[0m_data\u001b[0m\u001b[0;34m.\u001b[0m\u001b[0mget\u001b[0m\u001b[0;34m(\u001b[0m\u001b[0mitem\u001b[0m\u001b[0;34m)\u001b[0m\u001b[0;34m\u001b[0m\u001b[0m\n\u001b[0m\u001b[1;32m   2490\u001b[0m             \u001b[0mres\u001b[0m \u001b[0;34m=\u001b[0m \u001b[0mself\u001b[0m\u001b[0;34m.\u001b[0m\u001b[0m_box_item_values\u001b[0m\u001b[0;34m(\u001b[0m\u001b[0mitem\u001b[0m\u001b[0;34m,\u001b[0m \u001b[0mvalues\u001b[0m\u001b[0;34m)\u001b[0m\u001b[0;34m\u001b[0m\u001b[0m\n\u001b[1;32m   2491\u001b[0m             \u001b[0mcache\u001b[0m\u001b[0;34m[\u001b[0m\u001b[0mitem\u001b[0m\u001b[0;34m]\u001b[0m \u001b[0;34m=\u001b[0m \u001b[0mres\u001b[0m\u001b[0;34m\u001b[0m\u001b[0m\n",
      "\u001b[0;32m/Users/swappy/Documents/projects/tsc-cern/TrackingNtuples/TrackingNtuples/scripts/venv/lib/python2.7/site-packages/pandas/core/internals.pyc\u001b[0m in \u001b[0;36mget\u001b[0;34m(self, item, fastpath)\u001b[0m\n\u001b[1;32m   4113\u001b[0m \u001b[0;34m\u001b[0m\u001b[0m\n\u001b[1;32m   4114\u001b[0m             \u001b[0;32mif\u001b[0m \u001b[0;32mnot\u001b[0m \u001b[0misna\u001b[0m\u001b[0;34m(\u001b[0m\u001b[0mitem\u001b[0m\u001b[0;34m)\u001b[0m\u001b[0;34m:\u001b[0m\u001b[0;34m\u001b[0m\u001b[0m\n\u001b[0;32m-> 4115\u001b[0;31m                 \u001b[0mloc\u001b[0m \u001b[0;34m=\u001b[0m \u001b[0mself\u001b[0m\u001b[0;34m.\u001b[0m\u001b[0mitems\u001b[0m\u001b[0;34m.\u001b[0m\u001b[0mget_loc\u001b[0m\u001b[0;34m(\u001b[0m\u001b[0mitem\u001b[0m\u001b[0;34m)\u001b[0m\u001b[0;34m\u001b[0m\u001b[0m\n\u001b[0m\u001b[1;32m   4116\u001b[0m             \u001b[0;32melse\u001b[0m\u001b[0;34m:\u001b[0m\u001b[0;34m\u001b[0m\u001b[0m\n\u001b[1;32m   4117\u001b[0m                 \u001b[0mindexer\u001b[0m \u001b[0;34m=\u001b[0m \u001b[0mnp\u001b[0m\u001b[0;34m.\u001b[0m\u001b[0marange\u001b[0m\u001b[0;34m(\u001b[0m\u001b[0mlen\u001b[0m\u001b[0;34m(\u001b[0m\u001b[0mself\u001b[0m\u001b[0;34m.\u001b[0m\u001b[0mitems\u001b[0m\u001b[0;34m)\u001b[0m\u001b[0;34m)\u001b[0m\u001b[0;34m[\u001b[0m\u001b[0misna\u001b[0m\u001b[0;34m(\u001b[0m\u001b[0mself\u001b[0m\u001b[0;34m.\u001b[0m\u001b[0mitems\u001b[0m\u001b[0;34m)\u001b[0m\u001b[0;34m]\u001b[0m\u001b[0;34m\u001b[0m\u001b[0m\n",
      "\u001b[0;32m/Users/swappy/Documents/projects/tsc-cern/TrackingNtuples/TrackingNtuples/scripts/venv/lib/python2.7/site-packages/pandas/core/indexes/base.pyc\u001b[0m in \u001b[0;36mget_loc\u001b[0;34m(self, key, method, tolerance)\u001b[0m\n\u001b[1;32m   3078\u001b[0m                 \u001b[0;32mreturn\u001b[0m \u001b[0mself\u001b[0m\u001b[0;34m.\u001b[0m\u001b[0m_engine\u001b[0m\u001b[0;34m.\u001b[0m\u001b[0mget_loc\u001b[0m\u001b[0;34m(\u001b[0m\u001b[0mkey\u001b[0m\u001b[0;34m)\u001b[0m\u001b[0;34m\u001b[0m\u001b[0m\n\u001b[1;32m   3079\u001b[0m             \u001b[0;32mexcept\u001b[0m \u001b[0mKeyError\u001b[0m\u001b[0;34m:\u001b[0m\u001b[0;34m\u001b[0m\u001b[0m\n\u001b[0;32m-> 3080\u001b[0;31m                 \u001b[0;32mreturn\u001b[0m \u001b[0mself\u001b[0m\u001b[0;34m.\u001b[0m\u001b[0m_engine\u001b[0m\u001b[0;34m.\u001b[0m\u001b[0mget_loc\u001b[0m\u001b[0;34m(\u001b[0m\u001b[0mself\u001b[0m\u001b[0;34m.\u001b[0m\u001b[0m_maybe_cast_indexer\u001b[0m\u001b[0;34m(\u001b[0m\u001b[0mkey\u001b[0m\u001b[0;34m)\u001b[0m\u001b[0;34m)\u001b[0m\u001b[0;34m\u001b[0m\u001b[0m\n\u001b[0m\u001b[1;32m   3081\u001b[0m \u001b[0;34m\u001b[0m\u001b[0m\n\u001b[1;32m   3082\u001b[0m         \u001b[0mindexer\u001b[0m \u001b[0;34m=\u001b[0m \u001b[0mself\u001b[0m\u001b[0;34m.\u001b[0m\u001b[0mget_indexer\u001b[0m\u001b[0;34m(\u001b[0m\u001b[0;34m[\u001b[0m\u001b[0mkey\u001b[0m\u001b[0;34m]\u001b[0m\u001b[0;34m,\u001b[0m \u001b[0mmethod\u001b[0m\u001b[0;34m=\u001b[0m\u001b[0mmethod\u001b[0m\u001b[0;34m,\u001b[0m \u001b[0mtolerance\u001b[0m\u001b[0;34m=\u001b[0m\u001b[0mtolerance\u001b[0m\u001b[0;34m)\u001b[0m\u001b[0;34m\u001b[0m\u001b[0m\n",
      "\u001b[0;32mpandas/_libs/index.pyx\u001b[0m in \u001b[0;36mpandas._libs.index.IndexEngine.get_loc\u001b[0;34m()\u001b[0m\n",
      "\u001b[0;32mpandas/_libs/index.pyx\u001b[0m in \u001b[0;36mpandas._libs.index.IndexEngine.get_loc\u001b[0;34m()\u001b[0m\n",
      "\u001b[0;32mpandas/_libs/hashtable_class_helper.pxi\u001b[0m in \u001b[0;36mpandas._libs.hashtable.PyObjectHashTable.get_item\u001b[0;34m()\u001b[0m\n",
      "\u001b[0;32mpandas/_libs/hashtable_class_helper.pxi\u001b[0m in \u001b[0;36mpandas._libs.hashtable.PyObjectHashTable.get_item\u001b[0;34m()\u001b[0m\n",
      "\u001b[0;31mKeyError\u001b[0m: 'rechit_eta'"
     ]
    }
   ],
   "source": [
    "intermediate_df_ = rechit_param_global_df_[rechit_param_global_df_['rechit_eta'] <= 0.9]\n",
    "rechit_param_global_df_cut_ = intermediate_df_[intermediate_df_['rechit_eta'] >= -0.9]\n",
    "print len(rechit_param_global_df_cut_), \"of\", len(rechit_param_global_df_), \\\n",
    "float(len(rechit_param_global_df_cut_))/float(len(rechit_global_df_)), \"hits remain\"\n",
    "\n",
    "# Use the list of remaining rechits to filter the global rechit index\n",
    "# TODO: Move this cell to a location before the tracks are matched to rechits\n",
    "# Thus you automatically match only the hits that are valid given the cut\n",
    "\n",
    "rechit_global_df_cut_ = rechit_global_df_.iloc[rechit_param_global_df_cut_['rechit_id']]\n",
    "print len(rechit_global_df_cut_), \"entries in global rechit df\"\n",
    "\n",
    "# Create a dict/hash map of the modified indices for searching efficiently\n",
    "# This seems faster than checking rechit_id in the dataframe each time\n",
    "uncut_rechit_id_map_ = {}\n",
    "for idx_, item_ in rechit_param_global_df_cut_['rechit_id'].items():\n",
    "    uncut_rechit_id_map_[item_] = idx_\n",
    "\n",
    "# Check that the ID Ordering scheme in the global rechit ordered dicts has \n",
    "# not changed as a result of dropping the rechits that have been cut\n",
    "\n",
    "for x,y in zip(rechit_global_df_cut_['rechit_id'], rechit_param_global_df_cut_['rechit_id']):\n",
    "    if x != y:\n",
    "        print \"Rechit ID Mismatch: \", x, y"
   ]
  },
  {
   "cell_type": "markdown",
   "metadata": {},
   "source": [
    "## Visualize some of the tracks"
   ]
  },
  {
   "cell_type": "code",
   "execution_count": null,
   "metadata": {},
   "outputs": [],
   "source": [
    "# solve for a and b\n",
    "def best_fit(X, Y):\n",
    "\n",
    "    xbar = sum(X)/len(X)\n",
    "    ybar = sum(Y)/len(Y)\n",
    "    n = len(X) # or len(Y)\n",
    "\n",
    "    numer = sum([xi*yi for xi,yi in zip(X, Y)]) - n * xbar * ybar\n",
    "    denum = sum([xi**2 for xi in X]) - n * xbar**2\n",
    "\n",
    "    b = numer / denum\n",
    "    a = ybar - b * xbar\n",
    "\n",
    "    #print('best fit line:\\ny = {:.2f} + {:.2f}x'.format(a, b))\n",
    "\n",
    "    return a, b"
   ]
  },
  {
   "cell_type": "code",
   "execution_count": null,
   "metadata": {
    "scrolled": false
   },
   "outputs": [],
   "source": [
    "% matplotlib inline\n",
    "# Plot the tracks that have been matched to rechits (WITHOUT THE CUT)\n",
    "\n",
    "# Set a criteria to filter only tracks matched to hits\n",
    "criteria_ = [(len(rechit_id_list_) > 0) for rechit_id_list_ in track_global_df_['rechit_ids']]\n",
    "track_matched_hit_ids_ = track_global_df_[criteria_]['rechit_ids']\n",
    "\n",
    "# Verify that you have selected the correct tracks with matched rechits\n",
    "assert len(track_matched_hit_ids_) == len(track_global_df_[track_global_df_['match_count'] > 0]), \\\n",
    "\"Incorrect tracks selected; re-check count of tracks matched to rechits\"\n",
    "\n",
    "fig_ = plt.figure(figsize=[20, 10])\n",
    "ax_ = plt.subplot(121)\n",
    "\n",
    "event_id_ = 10\n",
    "tracks_begin_, tracks_end_ = 10, 45\n",
    "\n",
    "# Num_tracks should be less thatn the number of actual tracks matched to hits\n",
    "\n",
    "for i in range(tracks_begin_, tracks_end_):\n",
    "    matched_hit_x_ = []\n",
    "    matched_hit_y_ = []\n",
    "    #matched_hit_z_ = []\n",
    "    for matched_id_ in track_matched_hit_ids_.iloc[i]:\n",
    "        matched_hit_x_.append(rechit_param_global_df_.iloc[matched_id_]['rechit_x']) \n",
    "        matched_hit_y_.append(rechit_param_global_df_.iloc[matched_id_]['rechit_y']) \n",
    "        #matched_hit_z_.append(rechit_param_global_df_.iloc[matched_id_]['rechit_z'])   \n",
    "    #sorted_x_, sorted_y_, sorted_z_ = zip(*sorted(zip(matched_hit_x_, matched_hit_y_, matched_hit_z_)))\n",
    "    sorted_x_, sorted_y_= zip(*sorted(zip(matched_hit_x_, matched_hit_y_)))\n",
    "    plt.scatter(matched_hit_x_, matched_hit_y_, s=5)\n",
    "    a, b = best_fit(sorted_x_, sorted_y_)\n",
    "    yfit = [a + b * xi for xi in sorted_x_]\n",
    "    plt.plot(sorted_x_, yfit, label=i) # Best-fit line visualization\n",
    "plt.xlabel('RechitX')\n",
    "plt.ylabel('RechitY')\n",
    "#plt.zlabel('RechitZ')\n",
    "plt.legend()\n",
    "# ax_.scatter3D(concat_simhit_x_, concat_simhit_y_, concat_simhit_z_, s=0.6)\n",
    "\n",
    "ax_ = plt.subplot(122)\n",
    "\n",
    "for i in range(tracks_begin_, tracks_end_):\n",
    "    matched_hit_x_ = []\n",
    "    matched_hit_y_ = []\n",
    "    #matched_hit_z_ = []\n",
    "    for matched_id_ in track_matched_hit_ids_.iloc[i]:\n",
    "        if matched_id_ in uncut_rechit_id_map_:\n",
    "            matched_hit_x_.append(rechit_param_global_df_.iloc[matched_id_]['rechit_x']) \n",
    "            matched_hit_y_.append(rechit_param_global_df_.iloc[matched_id_]['rechit_y']) \n",
    "            #matched_hit_z_.append(rechit_param_global_df_.iloc[matched_id_]['rechit_z'])\n",
    "    if len(matched_hit_x_) <= 1:\n",
    "        print \"Skipped all rechits in track\", i\n",
    "        continue\n",
    "    #sorted_x_, sorted_y_, sorted_z_ = zip(*sorted(zip(matched_hit_x_, matched_hit_y_, matched_hit_z_)))\n",
    "    sorted_x_, sorted_y_= zip(*sorted(zip(matched_hit_x_, matched_hit_y_)))\n",
    "    plt.scatter(matched_hit_x_, matched_hit_y_, s=5)\n",
    "    a, b = best_fit(sorted_x_, sorted_y_)\n",
    "    yfit = [a + b * xi for xi in sorted_x_]\n",
    "    plt.plot(sorted_x_, yfit, label=i) # Best-fit line visualization\n",
    "    #plt.plot(sorted_x_, sorted_y_, label=i) # Better visualization\n",
    "plt.xlabel('RechitX')\n",
    "plt.ylabel('RechitY')\n",
    "#plt.zlabel('RechitZ')\n",
    "plt.legend()"
   ]
  },
  {
   "cell_type": "code",
   "execution_count": null,
   "metadata": {
    "scrolled": false
   },
   "outputs": [],
   "source": [
    "% matplotlib inline\n",
    "\n",
    "# Plot the tracks that have been matched to rechits (WITHOUT THE CUT)\n",
    "\n",
    "# Set a criteria to filter only tracks matched to hits\n",
    "criteria_ = [(len(rechit_id_list_) > 0) for rechit_id_list_ in track_global_df_['rechit_ids']]\n",
    "track_matched_hit_ids_ = track_global_df_[criteria_]['rechit_ids']\n",
    "\n",
    "# Verify that you have selected the correct tracks with matched rechits\n",
    "assert len(track_matched_hit_ids_) == len(track_global_df_[track_global_df_['match_count'] > 0]), \\\n",
    "\"Incorrect tracks selected; re-check count of tracks matched to rechits\"\n",
    "\n",
    "fig_ = plt.figure()\n",
    "ax_ = Axes3D(fig_)\n",
    "\n",
    "# Defined in previous cell\n",
    "tracks_begin_, tracks_end_ = 0, 18\n",
    "# TODO: Select tracks by event_id\n",
    "event_id_ = 15\n",
    "\n",
    "# Num_tracks should be less thatn the number of actual tracks matched to hits\n",
    "\n",
    "for i in range(tracks_begin_, tracks_end_):\n",
    "    matched_hit_x_ = []\n",
    "    matched_hit_y_ = []\n",
    "    matched_hit_z_ = []\n",
    "    for matched_id_ in track_matched_hit_ids_.iloc[i]:\n",
    "        matched_hit_x_.append(rechit_param_global_df_.iloc[matched_id_]['rechit_r']) \n",
    "        matched_hit_y_.append(rechit_param_global_df_.iloc[matched_id_]['rechit_eta']) \n",
    "        matched_hit_z_.append(rechit_param_global_df_.iloc[matched_id_]['rechit_phi'])   \n",
    "    sorted_x_, sorted_y_, sorted_z_ = zip(*sorted(zip(matched_hit_x_, matched_hit_y_, matched_hit_z_)))\n",
    "    ax_.scatter3D(matched_hit_x_, matched_hit_y_, matched_hit_z_, s=5)\n",
    "    #ax_.plot(sorted_x_, sorted_y_, sorted_z_, label=i)# Better visualization\n",
    "plt.xlabel('RechitR')\n",
    "plt.ylabel('RechitEta')\n",
    "ax_.set_zlabel('RechitPhi')\n",
    "plt.legend()\n",
    "# ax_.scatter3D(concat_simhit_x_, concat_simhit_y_, concat_simhit_z_, s=0.6)\n",
    "\n",
    "fig_ = plt.figure()\n",
    "ax_ = Axes3D(fig_)\n",
    "\n",
    "for i in range(tracks_begin_, tracks_end_):\n",
    "    matched_hit_x_ = []\n",
    "    matched_hit_y_ = []\n",
    "    matched_hit_z_ = []\n",
    "    for matched_id_ in track_matched_hit_ids_.iloc[i]:\n",
    "        if matched_id_ in uncut_rechit_id_map_:\n",
    "            matched_hit_x_.append(rechit_param_global_df_.iloc[matched_id_]['rechit_r']) \n",
    "            matched_hit_y_.append(rechit_param_global_df_.iloc[matched_id_]['rechit_eta'])\n",
    "            matched_hit_z_.append(rechit_param_global_df_.iloc[matched_id_]['rechit_phi'])   \n",
    "    if len(matched_hit_x_) <= 1:\n",
    "        print \"Skipped all rechits in track\", i\n",
    "        continue\n",
    "    sorted_y_, sorted_x_, sorted_z_ = zip(*sorted(zip(matched_hit_y_, matched_hit_x_, matched_hit_z_)))\n",
    "    # REMOVED Y AXIS ENTIRELY (R-PHI) -------------------------------------------------------------------------\n",
    "    ax_.scatter(matched_hit_x_, matched_hit_y_, matched_hit_z_, s=5, label=i)\n",
    "    #ax_.plot(sorted_x_, sorted_y_, sorted_x_, sorted_z_, label=i)# Better visualization\n",
    "plt.xlabel('RechitEta')\n",
    "plt.ylabel('RechitR')\n",
    "ax_.set_zlabel('RechitPhi')\n",
    "plt.legend()"
   ]
  },
  {
   "cell_type": "markdown",
   "metadata": {},
   "source": [
    "## Place the cuts on tracks by Eta and Pt\n"
   ]
  },
  {
   "cell_type": "code",
   "execution_count": null,
   "metadata": {},
   "outputs": [],
   "source": [
    "%%time\n",
    "# Uncomment next line and comment next 3 lines to cut only by track_pt for checking % tracks remaining\n",
    "# track_param_global_df_cut_ = track_param_global_df_[track_param_global_df_['track_pt'] <= 10]\n",
    "\n",
    "intermediate_df_ = track_param_global_df_[track_param_global_df_['track_eta'] <= 0.9]\n",
    "intermediate_df_ = intermediate_df_[intermediate_df_['track_pt'] <= 10]\n",
    "intermediate_df_ = intermediate_df_[intermediate_df_['track_pt'] >= 1]\n",
    "track_param_global_df_cut_ = intermediate_df_[intermediate_df_['track_eta'] >= -0.9]\n",
    "print len(track_param_global_df_cut_), \"of\", len(track_param_global_df_), \\\n",
    "\"(\", float(len(track_param_global_df_cut_))*100/float(len(track_param_global_df_)), \"%) tracks remain\"\n",
    "\n",
    "track_global_df_cut_ = track_global_df_.iloc[track_param_global_df_cut_['track_id']]\n",
    "print len(track_global_df_cut_), \"entries in global track df\"\n",
    "\n",
    "# Create a dict/hash map of the modified indices for searching efficiently\n",
    "# This seems faster than checking rechit_id in the dataframe each time\n",
    "uncut_track_id_map_ = {}\n",
    "for idx_, item_ in track_param_global_df_cut_['track_id'].items():\n",
    "    uncut_track_id_map_[item_] = idx_\n",
    "\n",
    "# Check that the ID Ordering scheme in the global track ordered dicts has \n",
    "# not changed as a result of dropping the tracks that have been cut\n",
    "for x,y in zip(track_global_df_cut_['track_id'], track_param_global_df_cut_['track_id']):\n",
    "    if x != y:\n",
    "        print \"Track ID Mismatch: \", x, y"
   ]
  },
  {
   "cell_type": "code",
   "execution_count": null,
   "metadata": {},
   "outputs": [],
   "source": []
  },
  {
   "cell_type": "markdown",
   "metadata": {},
   "source": [
    "## Plot only the filtered rechits"
   ]
  },
  {
   "cell_type": "code",
   "execution_count": null,
   "metadata": {
    "scrolled": false
   },
   "outputs": [],
   "source": [
    "%%time\n",
    "# Append all uncut rechits into arrays (x, y) for plotting\n",
    "concat_x_ = []\n",
    "concat_y_ = []\n",
    "\n",
    "hit_x_df_ = rechit_param_global_df_['rechit_x']\n",
    "hit_y_df_ = rechit_param_global_df_['rechit_y']\n",
    "\n",
    "for rechit_id_ in uncut_rechit_id_map_:\n",
    "    concat_x_.append(hit_x_df_[uncut_rechit_id_map_[rechit_id_]])\n",
    "    concat_y_.append(hit_y_df_[uncut_rechit_id_map_[rechit_id_]])\n",
    "\n",
    "plt.figure(figsize=(10,10))\n",
    "ax_ = plt.subplot(1,1,1)\n",
    "# Plot the 2D Histogram for Mono Rechits\n",
    "ax_.set_title('Uncut Rechit Distribution')\n",
    "ax_.patch.set_facecolor('black')\n",
    "ax_.hist2d(concat_x_, concat_y_, bins=500, norm=matplotlib.colors.LogNorm(), cmap='hot')\n",
    "#plt.savefig('plots/' + gen_event_ + '/stereo/rechitdistribution')\n",
    "plt.show()"
   ]
  },
  {
   "cell_type": "code",
   "execution_count": null,
   "metadata": {},
   "outputs": [],
   "source": [
    "# Comparing df.loc and df.iloc using a random index => iloc is generally faster\n",
    "# %timeit rechit_param_global_df_.loc[5868]['rechit_x']\n",
    "# %timeit rechit_param_global_df_.iloc[5868]['rechit_x']"
   ]
  },
  {
   "cell_type": "code",
   "execution_count": null,
   "metadata": {},
   "outputs": [],
   "source": [
    "'''\n",
    "Output the dictionaries of uncut track ids and uncut rechit ids\n",
    "'''\n"
   ]
  },
  {
   "cell_type": "markdown",
   "metadata": {},
   "source": [
    "## Convert to Adjacency Matrix for each Track"
   ]
  },
  {
   "cell_type": "code",
   "execution_count": null,
   "metadata": {},
   "outputs": [],
   "source": [
    "import tensorflow as tf"
   ]
  },
  {
   "cell_type": "code",
   "execution_count": null,
   "metadata": {},
   "outputs": [],
   "source": [
    "\n",
    "for event_id_ in range(number_of_events_):\n",
    "    \n",
    "    # Obtain subset of global dataframe for the respective event\n",
    "    event_df_ = track_global_df_[track_global_df_['event_id']==event_id_]\n",
    "    \n",
    "    "
   ]
  },
  {
   "cell_type": "code",
   "execution_count": null,
   "metadata": {},
   "outputs": [],
   "source": []
  },
  {
   "cell_type": "code",
   "execution_count": null,
   "metadata": {},
   "outputs": [],
   "source": []
  }
 ],
 "metadata": {
  "kernelspec": {
   "display_name": "Python 2",
   "language": "python",
   "name": "python2"
  },
  "language_info": {
   "codemirror_mode": {
    "name": "ipython",
    "version": 2
   },
   "file_extension": ".py",
   "mimetype": "text/x-python",
   "name": "python",
   "nbconvert_exporter": "python",
   "pygments_lexer": "ipython2",
   "version": "2.7.10"
  }
 },
 "nbformat": 4,
 "nbformat_minor": 2
}
