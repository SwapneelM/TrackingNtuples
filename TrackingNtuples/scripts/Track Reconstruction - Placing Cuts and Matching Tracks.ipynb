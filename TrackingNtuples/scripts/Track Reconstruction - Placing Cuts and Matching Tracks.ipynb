{
 "cells": [
  {
   "cell_type": "code",
   "execution_count": null,
   "metadata": {},
   "outputs": [],
   "source": [
    "'''\n",
    "This Notebook Primarily serves to plot the tracks, hits, respective parameters, and matches.\n",
    "It should be used to verify if the data being processed and used for machine learning is accurate.\n",
    "'''"
   ]
  },
  {
   "cell_type": "markdown",
   "metadata": {},
   "source": [
    "## Load Serialized Data into Dataframes"
   ]
  },
  {
   "cell_type": "code",
   "execution_count": 2,
   "metadata": {},
   "outputs": [],
   "source": [
    "import msgpack\n",
    "import pandas as pd"
   ]
  },
  {
   "cell_type": "code",
   "execution_count": 26,
   "metadata": {
    "scrolled": true
   },
   "outputs": [
    {
     "name": "stdout",
     "output_type": "stream",
     "text": [
      "CPU times: user 1.97 s, sys: 91.3 ms, total: 2.06 s\n",
      "Wall time: 2.07 s\n"
     ]
    }
   ],
   "source": [
    "%%time\n",
    "\n",
    "'''\n",
    "Read in the data from the serialized msgpack files.\n",
    "'''\n",
    "# List of strings with dataframe names to set as filenames for storage\n",
    "filenames_ = ['data/track_global_df_.msgpack', 'data/track_param_global_df_.msgpack', \n",
    "              'data/rechit_global_df_.msgpack', 'data/rechit_param_global_df_.msgpack']\n",
    "\n",
    "track_global_df_ = pd.read_msgpack(filenames_[0])\n",
    "track_param_global_df_ = pd.read_msgpack(filenames_[1])\n",
    "rechit_global_df_ = pd.read_msgpack(filenames_[2]) \n",
    "rechit_param_global_df_ = pd.read_msgpack(filenames_[3])\n"
   ]
  },
  {
   "cell_type": "code",
   "execution_count": 35,
   "metadata": {},
   "outputs": [
    {
     "ename": "ValueError",
     "evalue": "dictionary update sequence element #0 has length 10; 2 is required",
     "output_type": "error",
     "traceback": [
      "\u001b[0;31m---------------------------------------------------------------------------\u001b[0m",
      "\u001b[0;31mValueError\u001b[0m                                Traceback (most recent call last)",
      "\u001b[0;32m<ipython-input-35-958e0d633c5d>\u001b[0m in \u001b[0;36m<module>\u001b[0;34m()\u001b[0m\n\u001b[1;32m     10\u001b[0m \u001b[0;34m\u001b[0m\u001b[0m\n\u001b[1;32m     11\u001b[0m \u001b[0;32mwith\u001b[0m \u001b[0mopen\u001b[0m\u001b[0;34m(\u001b[0m\u001b[0;34m'data/rechit_ids_.csv'\u001b[0m\u001b[0;34m)\u001b[0m \u001b[0;32mas\u001b[0m \u001b[0mcsv_file\u001b[0m\u001b[0;34m:\u001b[0m\u001b[0;34m\u001b[0m\u001b[0m\n\u001b[0;32m---> 12\u001b[0;31m     \u001b[0mrechit_ids_\u001b[0m \u001b[0;34m=\u001b[0m \u001b[0mdict\u001b[0m\u001b[0;34m(\u001b[0m\u001b[0mcsv\u001b[0m\u001b[0;34m.\u001b[0m\u001b[0mDictReader\u001b[0m\u001b[0;34m(\u001b[0m\u001b[0mcsv_file\u001b[0m\u001b[0;34m)\u001b[0m\u001b[0;34m)\u001b[0m\u001b[0;34m\u001b[0m\u001b[0m\n\u001b[0m",
      "\u001b[0;31mValueError\u001b[0m: dictionary update sequence element #0 has length 10; 2 is required"
     ]
    }
   ],
   "source": [
    "import csv\n",
    "with open('data/track_count_.csv') as csv_file:\n",
    "    track_count_ = csv.DictReader(csv_file)\n",
    "\n",
    "with open('data/rechit_count_.csv') as csv_file:\n",
    "    rechit_count_ = csv.DictReader(csv_file)\n",
    "\n",
    "with open('data/track_ids_.csv') as csv_file:\n",
    "    track_ids_ = csv.DictReader(csv_file)\n",
    "\n",
    "with open('data/rechit_ids_.csv') as csv_file:\n",
    "    rechit_ids_ = csv.DictReader(csv_file)\n"
   ]
  },
  {
   "cell_type": "code",
   "execution_count": 38,
   "metadata": {
    "scrolled": true
   },
   "outputs": [],
   "source": [
    "import json\n",
    "json.dump()"
   ]
  },
  {
   "cell_type": "markdown",
   "metadata": {},
   "source": [
    "## Place the Cuts on Rechits => eta (-0.9, 0.9)"
   ]
  },
  {
   "cell_type": "code",
   "execution_count": 28,
   "metadata": {
    "scrolled": false
   },
   "outputs": [
    {
     "name": "stdout",
     "output_type": "stream",
     "text": [
      "152630 of 600347 0.254236300006 hits remain\n",
      "152630 entries in global rechit df\n"
     ]
    }
   ],
   "source": [
    "intermediate_df_ = rechit_param_global_df_[rechit_param_global_df_['rechit_eta'] <= 0.9]\n",
    "rechit_param_global_df_cut_ = intermediate_df_[intermediate_df_['rechit_eta'] >= -0.9]\n",
    "print len(rechit_param_global_df_cut_), \"of\", len(rechit_param_global_df_), \\\n",
    "float(len(rechit_param_global_df_cut_))/float(len(rechit_global_df_)), \"hits remain\"\n",
    "\n",
    "# Use the list of remaining rechits to filter the global rechit index\n",
    "# TODO: Move this cell to a location before the tracks are matched to rechits\n",
    "# Thus you automatically match only the hits that are valid given the cut\n",
    "\n",
    "rechit_global_df_cut_ = rechit_global_df_.iloc[rechit_param_global_df_cut_['rechit_id']]\n",
    "print len(rechit_global_df_cut_), \"entries in global rechit df\"\n",
    "\n",
    "# Create a dict/hash map of the modified indices for searching efficiently\n",
    "# This seems faster than checking rechit_id in the dataframe each time\n",
    "uncut_rechit_id_map_ = {}\n",
    "for idx_, item_ in rechit_param_global_df_cut_['rechit_id'].items():\n",
    "    uncut_rechit_id_map_[item_] = idx_\n",
    "\n",
    "# Check that the ID Ordering scheme in the global rechit ordered dicts has \n",
    "# not changed as a result of dropping the rechits that have been cut\n",
    "\n",
    "for x,y in zip(rechit_global_df_cut_['rechit_id'], rechit_param_global_df_cut_['rechit_id']):\n",
    "    if x != y:\n",
    "        print \"Rechit ID Mismatch: \", x, y"
   ]
  },
  {
   "cell_type": "markdown",
   "metadata": {},
   "source": [
    "## Visualize some of the tracks"
   ]
  },
  {
   "cell_type": "code",
   "execution_count": 29,
   "metadata": {},
   "outputs": [],
   "source": [
    "# solve for a and b\n",
    "def best_fit(X, Y):\n",
    "\n",
    "    xbar = sum(X)/len(X)\n",
    "    ybar = sum(Y)/len(Y)\n",
    "    n = len(X) # or len(Y)\n",
    "\n",
    "    numer = sum([xi*yi for xi,yi in zip(X, Y)]) - n * xbar * ybar\n",
    "    denum = sum([xi**2 for xi in X]) - n * xbar**2\n",
    "\n",
    "    b = numer / denum\n",
    "    a = ybar - b * xbar\n",
    "\n",
    "    #print('best fit line:\\ny = {:.2f} + {:.2f}x'.format(a, b))\n",
    "\n",
    "    return a, b"
   ]
  },
  {
   "cell_type": "code",
   "execution_count": null,
   "metadata": {
    "scrolled": false
   },
   "outputs": [],
   "source": [
    "% matplotlib inline\n",
    "# Plot the tracks that have been matched to rechits (WITHOUT THE CUT)\n",
    "\n",
    "# Set a criteria to filter only tracks matched to actual hits\n",
    "criteria_ = [(len(rechit_id_list_) > 0) for rechit_id_list_ in track_global_df_['rechit_ids']]\n",
    "track_matched_hit_ids_ = track_global_df_[criteria_]['rechit_ids']\n",
    "\n",
    "# Verify that you have selected the correct tracks with matched rechits\n",
    "assert len(track_matched_hit_ids_) == len(track_global_df_[track_global_df_['match_count'] > 0]), \\\n",
    "\"Incorrect tracks selected; re-check count of tracks matched to rechits\"\n",
    "\n",
    "\n",
    "def plot_filtered_tracks(key, tracks_begin_=10, tracks_end_=45)\n",
    "    fig_ = plt.figure(figsize=[20, 10])\n",
    "    ax_ = plt.subplot(121)\n",
    "\n",
    "    event_id_ = 10\n",
    "    tracks_begin_, tracks_end_ = 10, 45\n",
    "\n",
    "    # Num_tracks should be less thatn the number of actual tracks matched to hits\n",
    "\n",
    "    for i in range(tracks_begin_, tracks_end_):\n",
    "        key_x_array_ = []\n",
    "        key_y_array_ = []\n",
    "        #matched_hit_z_ = []\n",
    "        for matched_id_ in track_matched_hit_ids_.iloc[i]:\n",
    "            matched_hit_x_.append(rechit_param_global_df_.iloc[matched_id_][key_x]) \n",
    "            matched_hit_y_.append(rechit_param_global_df_.iloc[matched_id_][key_y]) \n",
    "            #matched_hit_z_.append(rechit_param_global_df_.iloc[matched_id_]['rechit_z'])   \n",
    "        #sorted_x_, sorted_y_, sorted_z_ = zip(*sorted(zip(matched_hit_x_, matched_hit_y_, matched_hit_z_)))\n",
    "        sorted_x_, sorted_y_= zip(*sorted(zip(matched_hit_x_, matched_hit_y_)))\n",
    "        plt.scatter(matched_hit_x_, matched_hit_y_, s=5)\n",
    "        a, b = best_fit(sorted_x_, sorted_y_)\n",
    "        yfit = [a + b * xi for xi in sorted_x_]\n",
    "        plt.plot(sorted_x_, yfit, label=i) # Best-fit line visualization\n",
    "    plt.xlabel(key_x)\n",
    "    plt.ylabel(key_y)\n",
    "    #plt.zlabel('RechitZ')\n",
    "    plt.legend()\n",
    "    # ax_.scatter3D(concat_simhit_x_, concat_simhit_y_, concat_simhit_z_, s=0.6)\n",
    "    return\n",
    "\n",
    "    ax_ = plt.subplot(122)\n",
    "\n",
    "    for i in range(tracks_begin_, tracks_end_):\n",
    "        matched_hit_x_ = []\n",
    "        matched_hit_y_ = []\n",
    "        #matched_hit_z_ = []\n",
    "        for matched_id_ in track_matched_hit_ids_.iloc[i]:\n",
    "            if matched_id_ in uncut_rechit_id_map_:\n",
    "                matched_hit_x_.append(rechit_param_global_df_.iloc[matched_id_]['rechit_x']) \n",
    "                matched_hit_y_.append(rechit_param_global_df_.iloc[matched_id_]['rechit_y']) \n",
    "                #matched_hit_z_.append(rechit_param_global_df_.iloc[matched_id_]['rechit_z'])\n",
    "        if len(matched_hit_x_) <= 1:\n",
    "            print \"Skipped all rechits in track\", i\n",
    "            continue\n",
    "        #sorted_x_, sorted_y_, sorted_z_ = zip(*sorted(zip(matched_hit_x_, matched_hit_y_, matched_hit_z_)))\n",
    "        sorted_x_, sorted_y_= zip(*sorted(zip(matched_hit_x_, matched_hit_y_)))\n",
    "        plt.scatter(matched_hit_x_, matched_hit_y_, s=5)\n",
    "        a, b = best_fit(sorted_x_, sorted_y_)\n",
    "        yfit = [a + b * xi for xi in sorted_x_]\n",
    "        plt.plot(sorted_x_, yfit, label=i) # Best-fit line visualization\n",
    "        #plt.plot(sorted_x_, sorted_y_, label=i) # Better visualization\n",
    "    plt.xlabel('RechitX')\n",
    "    plt.ylabel('RechitY')\n",
    "    #plt.zlabel('RechitZ')\n",
    "    plt.legend()"
   ]
  },
  {
   "cell_type": "code",
   "execution_count": null,
   "metadata": {
    "scrolled": false
   },
   "outputs": [],
   "source": [
    "% matplotlib inline\n",
    "\n",
    "# Plot the tracks that have been matched to rechits (WITHOUT THE CUT)\n",
    "\n",
    "# Set a criteria to filter only tracks matched to hits\n",
    "criteria_ = [(len(rechit_id_list_) > 0) for rechit_id_list_ in track_global_df_['rechit_ids']]\n",
    "track_matched_hit_ids_ = track_global_df_[criteria_]['rechit_ids']\n",
    "\n",
    "# Verify that you have selected the correct tracks with matched rechits\n",
    "assert len(track_matched_hit_ids_) == len(track_global_df_[track_global_df_['match_count'] > 0]), \\\n",
    "\"Incorrect tracks selected; re-check count of tracks matched to rechits\"\n",
    "\n",
    "fig_ = plt.figure()\n",
    "ax_ = Axes3D(fig_)\n",
    "\n",
    "# Defined in previous cell\n",
    "tracks_begin_, tracks_end_ = 0, 18\n",
    "# TODO: Select tracks by event_id\n",
    "event_id_ = 15\n",
    "\n",
    "# Num_tracks should be less thatn the number of actual tracks matched to hits\n",
    "\n",
    "for i in range(tracks_begin_, tracks_end_):\n",
    "    matched_hit_x_ = []\n",
    "    matched_hit_y_ = []\n",
    "    matched_hit_z_ = []\n",
    "    for matched_id_ in track_matched_hit_ids_.iloc[i]:\n",
    "        matched_hit_x_.append(rechit_param_global_df_.iloc[matched_id_]['rechit_r']) \n",
    "        matched_hit_y_.append(rechit_param_global_df_.iloc[matched_id_]['rechit_eta']) \n",
    "        matched_hit_z_.append(rechit_param_global_df_.iloc[matched_id_]['rechit_phi'])   \n",
    "    sorted_x_, sorted_y_, sorted_z_ = zip(*sorted(zip(matched_hit_x_, matched_hit_y_, matched_hit_z_)))\n",
    "    ax_.scatter3D(matched_hit_x_, matched_hit_y_, matched_hit_z_, s=5)\n",
    "    #ax_.plot(sorted_x_, sorted_y_, sorted_z_, label=i)# Better visualization\n",
    "plt.xlabel('RechitR')\n",
    "plt.ylabel('RechitEta')\n",
    "ax_.set_zlabel('RechitPhi')\n",
    "plt.legend()\n",
    "# ax_.scatter3D(concat_simhit_x_, concat_simhit_y_, concat_simhit_z_, s=0.6)\n",
    "\n",
    "fig_ = plt.figure()\n",
    "ax_ = Axes3D(fig_)\n",
    "\n",
    "for i in range(tracks_begin_, tracks_end_):\n",
    "    matched_hit_x_ = []\n",
    "    matched_hit_y_ = []\n",
    "    matched_hit_z_ = []\n",
    "    for matched_id_ in track_matched_hit_ids_.iloc[i]:\n",
    "        if matched_id_ in uncut_rechit_id_map_:\n",
    "            matched_hit_x_.append(rechit_param_global_df_.iloc[matched_id_]['rechit_r']) \n",
    "            matched_hit_y_.append(rechit_param_global_df_.iloc[matched_id_]['rechit_eta'])\n",
    "            matched_hit_z_.append(rechit_param_global_df_.iloc[matched_id_]['rechit_phi'])   \n",
    "    if len(matched_hit_x_) <= 1:\n",
    "        print \"Skipped all rechits in track\", i\n",
    "        continue\n",
    "    sorted_y_, sorted_x_, sorted_z_ = zip(*sorted(zip(matched_hit_y_, matched_hit_x_, matched_hit_z_)))\n",
    "    # REMOVED Y AXIS ENTIRELY (R-PHI) -------------------------------------------------------------------------\n",
    "    ax_.scatter(matched_hit_x_, matched_hit_y_, matched_hit_z_, s=5, label=i)\n",
    "    #ax_.plot(sorted_x_, sorted_y_, sorted_x_, sorted_z_, label=i)# Better visualization\n",
    "plt.xlabel('RechitEta')\n",
    "plt.ylabel('RechitR')\n",
    "ax_.set_zlabel('RechitPhi')\n",
    "plt.legend()"
   ]
  },
  {
   "cell_type": "markdown",
   "metadata": {},
   "source": [
    "## Place the cuts on tracks by Eta and Pt\n"
   ]
  },
  {
   "cell_type": "code",
   "execution_count": null,
   "metadata": {},
   "outputs": [],
   "source": [
    "%%time\n",
    "# Uncomment next line and comment next 3 lines to cut only by track_pt for checking % tracks remaining\n",
    "# track_param_global_df_cut_ = track_param_global_df_[track_param_global_df_['track_pt'] <= 10]\n",
    "\n",
    "intermediate_df_ = track_param_global_df_[track_param_global_df_['track_eta'] <= 0.9]\n",
    "intermediate_df_ = intermediate_df_[intermediate_df_['track_pt'] <= 10]\n",
    "intermediate_df_ = intermediate_df_[intermediate_df_['track_pt'] >= 1]\n",
    "track_param_global_df_cut_ = intermediate_df_[intermediate_df_['track_eta'] >= -0.9]\n",
    "print len(track_param_global_df_cut_), \"of\", len(track_param_global_df_), \\\n",
    "\"(\", float(len(track_param_global_df_cut_))*100/float(len(track_param_global_df_)), \"%) tracks remain\"\n",
    "\n",
    "track_global_df_cut_ = track_global_df_.iloc[track_param_global_df_cut_['track_id']]\n",
    "print len(track_global_df_cut_), \"entries in global track df\"\n",
    "\n",
    "# Create a dict/hash map of the modified indices for searching efficiently\n",
    "# This seems faster than checking rechit_id in the dataframe each time\n",
    "uncut_track_id_map_ = {}\n",
    "for idx_, item_ in track_param_global_df_cut_['track_id'].items():\n",
    "    uncut_track_id_map_[item_] = idx_\n",
    "\n",
    "# Check that the ID Ordering scheme in the global track ordered dicts has \n",
    "# not changed as a result of dropping the tracks that have been cut\n",
    "for x,y in zip(track_global_df_cut_['track_id'], track_param_global_df_cut_['track_id']):\n",
    "    if x != y:\n",
    "        print \"Track ID Mismatch: \", x, y"
   ]
  },
  {
   "cell_type": "code",
   "execution_count": null,
   "metadata": {},
   "outputs": [],
   "source": []
  },
  {
   "cell_type": "markdown",
   "metadata": {},
   "source": [
    "## Plot only the filtered rechits"
   ]
  },
  {
   "cell_type": "code",
   "execution_count": null,
   "metadata": {
    "scrolled": false
   },
   "outputs": [],
   "source": [
    "%%time\n",
    "# Append all uncut rechits into arrays (x, y) for plotting\n",
    "concat_x_ = []\n",
    "concat_y_ = []\n",
    "\n",
    "hit_x_df_ = rechit_param_global_df_['rechit_x']\n",
    "hit_y_df_ = rechit_param_global_df_['rechit_y']\n",
    "\n",
    "for rechit_id_ in uncut_rechit_id_map_:\n",
    "    concat_x_.append(hit_x_df_[uncut_rechit_id_map_[rechit_id_]])\n",
    "    concat_y_.append(hit_y_df_[uncut_rechit_id_map_[rechit_id_]])\n",
    "\n",
    "plt.figure(figsize=(10,10))\n",
    "ax_ = plt.subplot(1,1,1)\n",
    "# Plot the 2D Histogram for Mono Rechits\n",
    "ax_.set_title('Uncut Rechit Distribution')\n",
    "ax_.patch.set_facecolor('black')\n",
    "ax_.hist2d(concat_x_, concat_y_, bins=500, norm=matplotlib.colors.LogNorm(), cmap='hot')\n",
    "#plt.savefig('plots/' + gen_event_ + '/stereo/rechitdistribution')\n",
    "plt.show()"
   ]
  },
  {
   "cell_type": "code",
   "execution_count": null,
   "metadata": {},
   "outputs": [],
   "source": [
    "# Comparing df.loc and df.iloc using a random index => iloc is generally faster\n",
    "# %timeit rechit_param_global_df_.loc[5868]['rechit_x']\n",
    "# %timeit rechit_param_global_df_.iloc[5868]['rechit_x']"
   ]
  },
  {
   "cell_type": "code",
   "execution_count": null,
   "metadata": {},
   "outputs": [],
   "source": [
    "'''\n",
    "Output the dictionaries of uncut track ids and uncut rechit ids\n",
    "'''\n"
   ]
  },
  {
   "cell_type": "markdown",
   "metadata": {},
   "source": [
    "## Convert to Adjacency Matrix for each Track"
   ]
  },
  {
   "cell_type": "code",
   "execution_count": null,
   "metadata": {},
   "outputs": [],
   "source": [
    "import tensorflow as tf"
   ]
  },
  {
   "cell_type": "code",
   "execution_count": null,
   "metadata": {},
   "outputs": [],
   "source": [
    "\n",
    "for event_id_ in range(number_of_events_):\n",
    "    \n",
    "    # Obtain subset of global dataframe for the respective event\n",
    "    event_df_ = track_global_df_[track_global_df_['event_id']==event_id_]\n",
    "    \n",
    "    "
   ]
  },
  {
   "cell_type": "code",
   "execution_count": null,
   "metadata": {},
   "outputs": [],
   "source": []
  },
  {
   "cell_type": "code",
   "execution_count": null,
   "metadata": {},
   "outputs": [],
   "source": []
  }
 ],
 "metadata": {
  "kernelspec": {
   "display_name": "Python 2",
   "language": "python",
   "name": "python2"
  },
  "language_info": {
   "codemirror_mode": {
    "name": "ipython",
    "version": 2
   },
   "file_extension": ".py",
   "mimetype": "text/x-python",
   "name": "python",
   "nbconvert_exporter": "python",
   "pygments_lexer": "ipython2",
   "version": "2.7.10"
  }
 },
 "nbformat": 4,
 "nbformat_minor": 2
}
